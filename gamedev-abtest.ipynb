{
 "cells": [
  {
   "cell_type": "markdown",
   "id": "0bff39dd",
   "metadata": {},
   "source": [
    "The game features a special event, an in-game event, for which users can spend money. A group of designers has decided to change the appearance of the window for purchasing in-game event products. To evaluate the outcome of this innovation, an A/B test was conducted, dividing users into two groups: the control group and the test group (with the new type of window)."
   ]
  },
  {
   "cell_type": "markdown",
   "id": "6a6e549d",
   "metadata": {},
   "source": [
    "Investigate which of the A/B groups performed better. Provide the results in a format understandable to a broad audience, accompanied by graphs/dashboards/figures as necessary."
   ]
  },
  {
   "cell_type": "raw",
   "id": "1a4af5de",
   "metadata": {},
   "source": [
    "# Columns\n",
    "\n",
    "AbGroup: A/B group name (Control/Test)\n",
    "user_id: user ID\n",
    "time_stamp: day of the event\n",
    "install_date: day of app installation by the user\n",
    "event_name: technical event name (InAppPurchase - in the case of monetary purchase, ResourceSpend - in the case of in-game currency purchase)\n",
    "platform: platform - Google/Apple iTunes\n",
    "network_name: whether the user installed the game from an advertisement click (Paid) or not (Organic)\n",
    "country_name: user's country\n",
    "InGameTime: total time the user spent in the game in seconds\n",
    "LastCompletedLevel: number of the last completed level\n",
    "avg_energy_amount: average energy amount the user had per day\n",
    "revenue_on_event: revenue spent on purchasing in-game event products\n",
    "revenue_on_other_activities: revenue spent on other products, including gold\n",
    "gold_on_event: gold spent on event-related progress\n",
    "gold_on_other_activities: gold spent on other products"
   ]
  },
  {
   "cell_type": "code",
   "execution_count": 1,
   "id": "51849db8",
   "metadata": {},
   "outputs": [],
   "source": [
    "import pandas as pd\n",
    "import matplotlib.pyplot as plt\n",
    "plt.style.use('dark_background')"
   ]
  },
  {
   "cell_type": "code",
   "execution_count": 2,
   "id": "c8c3decd",
   "metadata": {},
   "outputs": [
    {
     "data": {
      "text/html": [
       "<div>\n",
       "<style scoped>\n",
       "    .dataframe tbody tr th:only-of-type {\n",
       "        vertical-align: middle;\n",
       "    }\n",
       "\n",
       "    .dataframe tbody tr th {\n",
       "        vertical-align: top;\n",
       "    }\n",
       "\n",
       "    .dataframe thead th {\n",
       "        text-align: right;\n",
       "    }\n",
       "</style>\n",
       "<table border=\"1\" class=\"dataframe\">\n",
       "  <thead>\n",
       "    <tr style=\"text-align: right;\">\n",
       "      <th></th>\n",
       "      <th>AbGroup</th>\n",
       "      <th>user_id</th>\n",
       "      <th>time_stamp</th>\n",
       "      <th>install_date</th>\n",
       "      <th>event_name</th>\n",
       "      <th>platform</th>\n",
       "      <th>network_name</th>\n",
       "      <th>country_name</th>\n",
       "      <th>InGameTime</th>\n",
       "      <th>LastCompletedLevel</th>\n",
       "      <th>avg_energy_amount</th>\n",
       "      <th>revenue_on_event</th>\n",
       "      <th>revenue_on_other_activities</th>\n",
       "      <th>gold_on_event</th>\n",
       "      <th>gold_on_other_activities</th>\n",
       "    </tr>\n",
       "  </thead>\n",
       "  <tbody>\n",
       "    <tr>\n",
       "      <th>0</th>\n",
       "      <td>Control</td>\n",
       "      <td>d60ebcaecff2dc1d360a8a41271e6fd8a902c107</td>\n",
       "      <td>2020-02-10</td>\n",
       "      <td>2019-11-10</td>\n",
       "      <td>ResourceSpend</td>\n",
       "      <td>itunes</td>\n",
       "      <td>Organic</td>\n",
       "      <td>United Kingdom of Great Britain and Northern I...</td>\n",
       "      <td>276180</td>\n",
       "      <td>345</td>\n",
       "      <td>54.0</td>\n",
       "      <td>0.0</td>\n",
       "      <td>0.0</td>\n",
       "      <td>NaN</td>\n",
       "      <td>NaN</td>\n",
       "    </tr>\n",
       "    <tr>\n",
       "      <th>1</th>\n",
       "      <td>Test</td>\n",
       "      <td>f6e385b0ab43d5aea9cfcc408aa84029a4ea5fdb</td>\n",
       "      <td>2020-03-04</td>\n",
       "      <td>2019-11-05</td>\n",
       "      <td>ResourceSpend</td>\n",
       "      <td>itunes</td>\n",
       "      <td>Paid</td>\n",
       "      <td>United States of America</td>\n",
       "      <td>166095</td>\n",
       "      <td>199</td>\n",
       "      <td>50.0</td>\n",
       "      <td>0.0</td>\n",
       "      <td>0.0</td>\n",
       "      <td>NaN</td>\n",
       "      <td>NaN</td>\n",
       "    </tr>\n",
       "    <tr>\n",
       "      <th>2</th>\n",
       "      <td>Control</td>\n",
       "      <td>a4c80c8524e2c11cc238553d7b02da01ce2aad66</td>\n",
       "      <td>2020-02-26</td>\n",
       "      <td>2020-01-02</td>\n",
       "      <td>ResourceSpend</td>\n",
       "      <td>itunes</td>\n",
       "      <td>Paid</td>\n",
       "      <td>Canada</td>\n",
       "      <td>240986</td>\n",
       "      <td>84</td>\n",
       "      <td>39.0</td>\n",
       "      <td>0.0</td>\n",
       "      <td>0.0</td>\n",
       "      <td>NaN</td>\n",
       "      <td>NaN</td>\n",
       "    </tr>\n",
       "    <tr>\n",
       "      <th>3</th>\n",
       "      <td>Control</td>\n",
       "      <td>7ea2e4599ae33760c307e254839317bd5b17a63c</td>\n",
       "      <td>2020-02-21</td>\n",
       "      <td>2020-01-13</td>\n",
       "      <td>ResourceSpend</td>\n",
       "      <td>itunes</td>\n",
       "      <td>Organic</td>\n",
       "      <td>France</td>\n",
       "      <td>989822</td>\n",
       "      <td>1176</td>\n",
       "      <td>21.0</td>\n",
       "      <td>0.0</td>\n",
       "      <td>0.0</td>\n",
       "      <td>NaN</td>\n",
       "      <td>NaN</td>\n",
       "    </tr>\n",
       "    <tr>\n",
       "      <th>4</th>\n",
       "      <td>Control</td>\n",
       "      <td>6495168982929360dc6d84bf0766d8963a7ddc41</td>\n",
       "      <td>2020-02-18</td>\n",
       "      <td>2020-02-05</td>\n",
       "      <td>ResourceSpend</td>\n",
       "      <td>itunes</td>\n",
       "      <td>Paid</td>\n",
       "      <td>Spain</td>\n",
       "      <td>52106</td>\n",
       "      <td>66</td>\n",
       "      <td>43.0</td>\n",
       "      <td>0.0</td>\n",
       "      <td>0.0</td>\n",
       "      <td>500.0</td>\n",
       "      <td>NaN</td>\n",
       "    </tr>\n",
       "  </tbody>\n",
       "</table>\n",
       "</div>"
      ],
      "text/plain": [
       "   AbGroup                                   user_id  time_stamp install_date  \\\n",
       "0  Control  d60ebcaecff2dc1d360a8a41271e6fd8a902c107  2020-02-10   2019-11-10   \n",
       "1     Test  f6e385b0ab43d5aea9cfcc408aa84029a4ea5fdb  2020-03-04   2019-11-05   \n",
       "2  Control  a4c80c8524e2c11cc238553d7b02da01ce2aad66  2020-02-26   2020-01-02   \n",
       "3  Control  7ea2e4599ae33760c307e254839317bd5b17a63c  2020-02-21   2020-01-13   \n",
       "4  Control  6495168982929360dc6d84bf0766d8963a7ddc41  2020-02-18   2020-02-05   \n",
       "\n",
       "      event_name platform network_name  \\\n",
       "0  ResourceSpend   itunes      Organic   \n",
       "1  ResourceSpend   itunes         Paid   \n",
       "2  ResourceSpend   itunes         Paid   \n",
       "3  ResourceSpend   itunes      Organic   \n",
       "4  ResourceSpend   itunes         Paid   \n",
       "\n",
       "                                        country_name  InGameTime  \\\n",
       "0  United Kingdom of Great Britain and Northern I...      276180   \n",
       "1                           United States of America      166095   \n",
       "2                                             Canada      240986   \n",
       "3                                             France      989822   \n",
       "4                                              Spain       52106   \n",
       "\n",
       "   LastCompletedLevel  avg_energy_amount  revenue_on_event  \\\n",
       "0                 345               54.0               0.0   \n",
       "1                 199               50.0               0.0   \n",
       "2                  84               39.0               0.0   \n",
       "3                1176               21.0               0.0   \n",
       "4                  66               43.0               0.0   \n",
       "\n",
       "   revenue_on_other_activities  gold_on_event  gold_on_other_activities  \n",
       "0                          0.0            NaN                       NaN  \n",
       "1                          0.0            NaN                       NaN  \n",
       "2                          0.0            NaN                       NaN  \n",
       "3                          0.0            NaN                       NaN  \n",
       "4                          0.0          500.0                       NaN  "
      ]
     },
     "execution_count": 2,
     "metadata": {},
     "output_type": "execute_result"
    }
   ],
   "source": [
    "df = pd.read_csv(r'C:\\Users\\User\\Desktop\\j\\portfolio_drafts\\data.csv')\n",
    "\n",
    "df.head()"
   ]
  },
  {
   "cell_type": "code",
   "execution_count": 3,
   "id": "381feba2",
   "metadata": {},
   "outputs": [
    {
     "data": {
      "text/plain": [
       "(696840, 15)"
      ]
     },
     "execution_count": 3,
     "metadata": {},
     "output_type": "execute_result"
    }
   ],
   "source": [
    "df.shape"
   ]
  },
  {
   "cell_type": "code",
   "execution_count": 4,
   "id": "971e927e",
   "metadata": {},
   "outputs": [
    {
     "data": {
      "text/plain": [
       "AbGroup\n",
       "Control    558070\n",
       "Test       138770\n",
       "Name: count, dtype: int64"
      ]
     },
     "execution_count": 4,
     "metadata": {},
     "output_type": "execute_result"
    }
   ],
   "source": [
    "df['AbGroup'].value_counts()"
   ]
  },
  {
   "cell_type": "code",
   "execution_count": 5,
   "id": "074ba569",
   "metadata": {},
   "outputs": [
    {
     "data": {
      "text/plain": [
       "AbGroup\n",
       "Control    0.800858\n",
       "Test       0.199142\n",
       "Name: proportion, dtype: float64"
      ]
     },
     "execution_count": 5,
     "metadata": {},
     "output_type": "execute_result"
    }
   ],
   "source": [
    "df['AbGroup'].value_counts(normalize=True) # test group = 20%"
   ]
  },
  {
   "cell_type": "code",
   "execution_count": 6,
   "id": "ab99756a",
   "metadata": {},
   "outputs": [
    {
     "data": {
      "text/html": [
       "<div>\n",
       "<style scoped>\n",
       "    .dataframe tbody tr th:only-of-type {\n",
       "        vertical-align: middle;\n",
       "    }\n",
       "\n",
       "    .dataframe tbody tr th {\n",
       "        vertical-align: top;\n",
       "    }\n",
       "\n",
       "    .dataframe thead th {\n",
       "        text-align: right;\n",
       "    }\n",
       "</style>\n",
       "<table border=\"1\" class=\"dataframe\">\n",
       "  <thead>\n",
       "    <tr style=\"text-align: right;\">\n",
       "      <th></th>\n",
       "      <th>count</th>\n",
       "      <th>nunique</th>\n",
       "    </tr>\n",
       "    <tr>\n",
       "      <th>AbGroup</th>\n",
       "      <th></th>\n",
       "      <th></th>\n",
       "    </tr>\n",
       "  </thead>\n",
       "  <tbody>\n",
       "    <tr>\n",
       "      <th>Control</th>\n",
       "      <td>558070</td>\n",
       "      <td>89034</td>\n",
       "    </tr>\n",
       "    <tr>\n",
       "      <th>Test</th>\n",
       "      <td>138770</td>\n",
       "      <td>22278</td>\n",
       "    </tr>\n",
       "  </tbody>\n",
       "</table>\n",
       "</div>"
      ],
      "text/plain": [
       "          count  nunique\n",
       "AbGroup                 \n",
       "Control  558070    89034\n",
       "Test     138770    22278"
      ]
     },
     "execution_count": 6,
     "metadata": {},
     "output_type": "execute_result"
    }
   ],
   "source": [
    "df.groupby('AbGroup')['user_id'].agg(['count','nunique'])"
   ]
  },
  {
   "cell_type": "code",
   "execution_count": 7,
   "id": "12000988",
   "metadata": {},
   "outputs": [],
   "source": [
    "df['time_stamp'] = pd.to_datetime(df['time_stamp'],format='%Y-%m-%d')\n",
    "df['install_date'] = pd.to_datetime(df['install_date'],format='%Y-%m-%d')"
   ]
  },
  {
   "cell_type": "code",
   "execution_count": 8,
   "id": "35b13cc6",
   "metadata": {},
   "outputs": [
    {
     "data": {
      "text/plain": [
       "696840"
      ]
     },
     "execution_count": 8,
     "metadata": {},
     "output_type": "execute_result"
    }
   ],
   "source": [
    "len(df.query('revenue_on_event == 0')) # ??\n",
    "len(df.query('revenue_on_other_activities == 0'))"
   ]
  },
  {
   "cell_type": "code",
   "execution_count": 9,
   "id": "f0a0485a",
   "metadata": {},
   "outputs": [
    {
     "data": {
      "text/plain": [
       "45412"
      ]
     },
     "execution_count": 9,
     "metadata": {},
     "output_type": "execute_result"
    }
   ],
   "source": [
    "len(df.query('gold_on_event > 0')) "
   ]
  },
  {
   "cell_type": "code",
   "execution_count": 10,
   "id": "eda2773c",
   "metadata": {},
   "outputs": [
    {
     "data": {
      "text/plain": [
       "168193"
      ]
     },
     "execution_count": 10,
     "metadata": {},
     "output_type": "execute_result"
    }
   ],
   "source": [
    "len(df.query('gold_on_other_activities > 0'))"
   ]
  },
  {
   "cell_type": "code",
   "execution_count": 11,
   "id": "f5a10bc4",
   "metadata": {},
   "outputs": [
    {
     "data": {
      "text/plain": [
       "<AxesSubplot:xlabel='time_stamp'>"
      ]
     },
     "execution_count": 11,
     "metadata": {},
     "output_type": "execute_result"
    },
    {
     "data": {
      "image/png": "[encoded data removed]",
      "text/plain": [
       "<Figure size 432x288 with 1 Axes>"
      ]
     },
     "metadata": {},
     "output_type": "display_data"
    }
   ],
   "source": [
    "df.groupby('time_stamp')['user_id'].count().plot()"
   ]
  },
  {
   "cell_type": "code",
   "execution_count": 12,
   "id": "755c60ec",
   "metadata": {},
   "outputs": [
    {
     "data": {
      "text/plain": [
       "<AxesSubplot:xlabel='time_stamp'>"
      ]
     },
     "execution_count": 12,
     "metadata": {},
     "output_type": "execute_result"
    },
    {
     "data": {
      "image/png": "[encoded data removed]",
      "text/plain": [
       "<Figure size 432x288 with 1 Axes>"
      ]
     },
     "metadata": {},
     "output_type": "display_data"
    }
   ],
   "source": [
    "df.groupby('time_stamp')['user_id'].nunique().plot()"
   ]
  },
  {
   "cell_type": "code",
   "execution_count": 13,
   "id": "cf632de3",
   "metadata": {},
   "outputs": [
    {
     "data": {
      "text/html": [
       "<div>\n",
       "<style scoped>\n",
       "    .dataframe tbody tr th:only-of-type {\n",
       "        vertical-align: middle;\n",
       "    }\n",
       "\n",
       "    .dataframe tbody tr th {\n",
       "        vertical-align: top;\n",
       "    }\n",
       "\n",
       "    .dataframe thead th {\n",
       "        text-align: right;\n",
       "    }\n",
       "</style>\n",
       "<table border=\"1\" class=\"dataframe\">\n",
       "  <thead>\n",
       "    <tr style=\"text-align: right;\">\n",
       "      <th></th>\n",
       "      <th>count</th>\n",
       "      <th>nunique</th>\n",
       "    </tr>\n",
       "    <tr>\n",
       "      <th>time_stamp</th>\n",
       "      <th></th>\n",
       "      <th></th>\n",
       "    </tr>\n",
       "  </thead>\n",
       "  <tbody>\n",
       "    <tr>\n",
       "      <th>2020-02-06</th>\n",
       "      <td>4</td>\n",
       "      <td>3</td>\n",
       "    </tr>\n",
       "    <tr>\n",
       "      <th>2020-02-08</th>\n",
       "      <td>1</td>\n",
       "      <td>1</td>\n",
       "    </tr>\n",
       "    <tr>\n",
       "      <th>2020-02-09</th>\n",
       "      <td>413</td>\n",
       "      <td>410</td>\n",
       "    </tr>\n",
       "    <tr>\n",
       "      <th>2020-02-10</th>\n",
       "      <td>12472</td>\n",
       "      <td>12445</td>\n",
       "    </tr>\n",
       "    <tr>\n",
       "      <th>2020-02-11</th>\n",
       "      <td>21822</td>\n",
       "      <td>21767</td>\n",
       "    </tr>\n",
       "    <tr>\n",
       "      <th>2020-02-12</th>\n",
       "      <td>24292</td>\n",
       "      <td>24225</td>\n",
       "    </tr>\n",
       "    <tr>\n",
       "      <th>2020-02-13</th>\n",
       "      <td>25194</td>\n",
       "      <td>25131</td>\n",
       "    </tr>\n",
       "    <tr>\n",
       "      <th>2020-02-14</th>\n",
       "      <td>26464</td>\n",
       "      <td>26407</td>\n",
       "    </tr>\n",
       "    <tr>\n",
       "      <th>2020-02-15</th>\n",
       "      <td>28959</td>\n",
       "      <td>28894</td>\n",
       "    </tr>\n",
       "    <tr>\n",
       "      <th>2020-02-16</th>\n",
       "      <td>28780</td>\n",
       "      <td>28713</td>\n",
       "    </tr>\n",
       "  </tbody>\n",
       "</table>\n",
       "</div>"
      ],
      "text/plain": [
       "            count  nunique\n",
       "time_stamp                \n",
       "2020-02-06      4        3\n",
       "2020-02-08      1        1\n",
       "2020-02-09    413      410\n",
       "2020-02-10  12472    12445\n",
       "2020-02-11  21822    21767\n",
       "2020-02-12  24292    24225\n",
       "2020-02-13  25194    25131\n",
       "2020-02-14  26464    26407\n",
       "2020-02-15  28959    28894\n",
       "2020-02-16  28780    28713"
      ]
     },
     "execution_count": 13,
     "metadata": {},
     "output_type": "execute_result"
    }
   ],
   "source": [
    "df.groupby('time_stamp')['user_id'].agg(['count','nunique']).head(10)"
   ]
  },
  {
   "cell_type": "code",
   "execution_count": 14,
   "id": "11da6005",
   "metadata": {},
   "outputs": [
    {
     "data": {
      "text/plain": [
       "time_stamp\n",
       "2020-02-06       3\n",
       "2020-02-09      50\n",
       "2020-02-10    1129\n",
       "2020-02-11    1796\n",
       "2020-02-12    1876\n",
       "2020-02-13    1830\n",
       "2020-02-14    1928\n",
       "2020-02-15    1987\n",
       "2020-02-16    1753\n",
       "2020-02-17    1917\n",
       "2020-02-18    2015\n",
       "2020-02-19    1906\n",
       "2020-02-20    1972\n",
       "2020-02-21    2029\n",
       "2020-02-22    2249\n",
       "2020-02-23    2095\n",
       "2020-02-24    1908\n",
       "2020-02-25    1899\n",
       "2020-02-26    1963\n",
       "2020-02-27    1956\n",
       "2020-02-28    1961\n",
       "2020-02-29    2022\n",
       "2020-03-01    2246\n",
       "2020-03-02    2212\n",
       "2020-03-03    2300\n",
       "2020-03-04     410\n",
       "Name: gold_on_event, dtype: int64"
      ]
     },
     "execution_count": 14,
     "metadata": {},
     "output_type": "execute_result"
    }
   ],
   "source": [
    "df.query('gold_on_event > 0').groupby('time_stamp')['gold_on_event'].agg('count')"
   ]
  },
  {
   "cell_type": "code",
   "execution_count": 15,
   "id": "f89ca183",
   "metadata": {},
   "outputs": [
    {
     "data": {
      "text/plain": [
       "<AxesSubplot:>"
      ]
     },
     "execution_count": 15,
     "metadata": {},
     "output_type": "execute_result"
    },
    {
     "data": {
      "image/png": "[encoded data removed]",
      "text/plain": [
       "<Figure size 432x288 with 1 Axes>"
      ]
     },
     "metadata": {},
     "output_type": "display_data"
    }
   ],
   "source": [
    "df['gold_on_event'].hist()"
   ]
  },
  {
   "cell_type": "code",
   "execution_count": 16,
   "id": "6f1e8c28",
   "metadata": {},
   "outputs": [
    {
     "data": {
      "text/plain": [
       "<AxesSubplot:>"
      ]
     },
     "execution_count": 16,
     "metadata": {},
     "output_type": "execute_result"
    },
    {
     "data": {
      "image/png": "[encoded data removed]",
      "text/plain": [
       "<Figure size 432x288 with 1 Axes>"
      ]
     },
     "metadata": {},
     "output_type": "display_data"
    }
   ],
   "source": [
    "df['gold_on_other_activities'].hist()"
   ]
  },
  {
   "cell_type": "markdown",
   "id": "84dbaedc",
   "metadata": {},
   "source": [
    "The distributions have heavy tails, so we will convert the variable into a binary one for further analysis."
   ]
  },
  {
   "cell_type": "code",
   "execution_count": 17,
   "id": "4d76452c",
   "metadata": {},
   "outputs": [],
   "source": [
    "df['gold_on_event_flag'] = (df['gold_on_event'] > 0)*1\n",
    "df['gold_on_other_activities_flag'] = (df['gold_on_other_activities'] > 0)*1"
   ]
  },
  {
   "cell_type": "code",
   "execution_count": 18,
   "id": "bab77035",
   "metadata": {},
   "outputs": [
    {
     "data": {
      "text/html": [
       "<div>\n",
       "<style scoped>\n",
       "    .dataframe tbody tr th:only-of-type {\n",
       "        vertical-align: middle;\n",
       "    }\n",
       "\n",
       "    .dataframe tbody tr th {\n",
       "        vertical-align: top;\n",
       "    }\n",
       "\n",
       "    .dataframe thead tr th {\n",
       "        text-align: left;\n",
       "    }\n",
       "\n",
       "    .dataframe thead tr:last-of-type th {\n",
       "        text-align: right;\n",
       "    }\n",
       "</style>\n",
       "<table border=\"1\" class=\"dataframe\">\n",
       "  <thead>\n",
       "    <tr>\n",
       "      <th></th>\n",
       "      <th colspan=\"2\" halign=\"left\">gold_on_event_flag</th>\n",
       "      <th colspan=\"2\" halign=\"left\">gold_on_event</th>\n",
       "    </tr>\n",
       "    <tr>\n",
       "      <th></th>\n",
       "      <th>count</th>\n",
       "      <th>mean</th>\n",
       "      <th>mean</th>\n",
       "      <th>median</th>\n",
       "    </tr>\n",
       "    <tr>\n",
       "      <th>AbGroup</th>\n",
       "      <th></th>\n",
       "      <th></th>\n",
       "      <th></th>\n",
       "      <th></th>\n",
       "    </tr>\n",
       "  </thead>\n",
       "  <tbody>\n",
       "    <tr>\n",
       "      <th>Control</th>\n",
       "      <td>558070</td>\n",
       "      <td>0.06523</td>\n",
       "      <td>1965.211658</td>\n",
       "      <td>1000.0</td>\n",
       "    </tr>\n",
       "    <tr>\n",
       "      <th>Test</th>\n",
       "      <td>138770</td>\n",
       "      <td>0.06492</td>\n",
       "      <td>2104.606505</td>\n",
       "      <td>1500.0</td>\n",
       "    </tr>\n",
       "  </tbody>\n",
       "</table>\n",
       "</div>"
      ],
      "text/plain": [
       "        gold_on_event_flag          gold_on_event        \n",
       "                     count     mean          mean  median\n",
       "AbGroup                                                  \n",
       "Control             558070  0.06523   1965.211658  1000.0\n",
       "Test                138770  0.06492   2104.606505  1500.0"
      ]
     },
     "execution_count": 18,
     "metadata": {},
     "output_type": "execute_result"
    }
   ],
   "source": [
    "(df.groupby(['AbGroup'])\n",
    "[['gold_on_event_flag','gold_on_event']]\n",
    " .agg({'gold_on_event_flag':['count','mean'],\n",
    "       'gold_on_event':['mean','median']}))"
   ]
  },
  {
   "cell_type": "code",
   "execution_count": 72,
   "id": "dcfa465a",
   "metadata": {},
   "outputs": [
    {
     "data": {
      "text/html": [
       "<div>\n",
       "<style scoped>\n",
       "    .dataframe tbody tr th:only-of-type {\n",
       "        vertical-align: middle;\n",
       "    }\n",
       "\n",
       "    .dataframe tbody tr th {\n",
       "        vertical-align: top;\n",
       "    }\n",
       "\n",
       "    .dataframe thead th {\n",
       "        text-align: right;\n",
       "    }\n",
       "</style>\n",
       "<table border=\"1\" class=\"dataframe\">\n",
       "  <thead>\n",
       "    <tr style=\"text-align: right;\">\n",
       "      <th></th>\n",
       "      <th>AbGroup</th>\n",
       "      <th>user_id</th>\n",
       "      <th>time_stamp</th>\n",
       "      <th>install_date</th>\n",
       "      <th>event_name</th>\n",
       "      <th>platform</th>\n",
       "      <th>network_name</th>\n",
       "      <th>country_name</th>\n",
       "      <th>InGameTime</th>\n",
       "      <th>LastCompletedLevel</th>\n",
       "      <th>avg_energy_amount</th>\n",
       "      <th>revenue_on_event</th>\n",
       "      <th>revenue_on_other_activities</th>\n",
       "      <th>gold_on_event</th>\n",
       "      <th>gold_on_other_activities</th>\n",
       "      <th>gold_on_event_flag</th>\n",
       "      <th>gold_on_other_activities_flag</th>\n",
       "    </tr>\n",
       "  </thead>\n",
       "  <tbody>\n",
       "    <tr>\n",
       "      <th>0</th>\n",
       "      <td>Control</td>\n",
       "      <td>d60ebcaecff2dc1d360a8a41271e6fd8a902c107</td>\n",
       "      <td>2020-02-10</td>\n",
       "      <td>2019-11-10</td>\n",
       "      <td>ResourceSpend</td>\n",
       "      <td>itunes</td>\n",
       "      <td>Organic</td>\n",
       "      <td>United Kingdom of Great Britain and Northern I...</td>\n",
       "      <td>276180</td>\n",
       "      <td>345</td>\n",
       "      <td>54.0</td>\n",
       "      <td>0.0</td>\n",
       "      <td>0.0</td>\n",
       "      <td>NaN</td>\n",
       "      <td>NaN</td>\n",
       "      <td>0</td>\n",
       "      <td>0</td>\n",
       "    </tr>\n",
       "    <tr>\n",
       "      <th>1</th>\n",
       "      <td>Test</td>\n",
       "      <td>f6e385b0ab43d5aea9cfcc408aa84029a4ea5fdb</td>\n",
       "      <td>2020-03-04</td>\n",
       "      <td>2019-11-05</td>\n",
       "      <td>ResourceSpend</td>\n",
       "      <td>itunes</td>\n",
       "      <td>Paid</td>\n",
       "      <td>United States of America</td>\n",
       "      <td>166095</td>\n",
       "      <td>199</td>\n",
       "      <td>50.0</td>\n",
       "      <td>0.0</td>\n",
       "      <td>0.0</td>\n",
       "      <td>NaN</td>\n",
       "      <td>NaN</td>\n",
       "      <td>0</td>\n",
       "      <td>0</td>\n",
       "    </tr>\n",
       "    <tr>\n",
       "      <th>2</th>\n",
       "      <td>Control</td>\n",
       "      <td>a4c80c8524e2c11cc238553d7b02da01ce2aad66</td>\n",
       "      <td>2020-02-26</td>\n",
       "      <td>2020-01-02</td>\n",
       "      <td>ResourceSpend</td>\n",
       "      <td>itunes</td>\n",
       "      <td>Paid</td>\n",
       "      <td>Canada</td>\n",
       "      <td>240986</td>\n",
       "      <td>84</td>\n",
       "      <td>39.0</td>\n",
       "      <td>0.0</td>\n",
       "      <td>0.0</td>\n",
       "      <td>NaN</td>\n",
       "      <td>NaN</td>\n",
       "      <td>0</td>\n",
       "      <td>0</td>\n",
       "    </tr>\n",
       "    <tr>\n",
       "      <th>3</th>\n",
       "      <td>Control</td>\n",
       "      <td>7ea2e4599ae33760c307e254839317bd5b17a63c</td>\n",
       "      <td>2020-02-21</td>\n",
       "      <td>2020-01-13</td>\n",
       "      <td>ResourceSpend</td>\n",
       "      <td>itunes</td>\n",
       "      <td>Organic</td>\n",
       "      <td>France</td>\n",
       "      <td>989822</td>\n",
       "      <td>1176</td>\n",
       "      <td>21.0</td>\n",
       "      <td>0.0</td>\n",
       "      <td>0.0</td>\n",
       "      <td>NaN</td>\n",
       "      <td>NaN</td>\n",
       "      <td>0</td>\n",
       "      <td>0</td>\n",
       "    </tr>\n",
       "    <tr>\n",
       "      <th>4</th>\n",
       "      <td>Control</td>\n",
       "      <td>6495168982929360dc6d84bf0766d8963a7ddc41</td>\n",
       "      <td>2020-02-18</td>\n",
       "      <td>2020-02-05</td>\n",
       "      <td>ResourceSpend</td>\n",
       "      <td>itunes</td>\n",
       "      <td>Paid</td>\n",
       "      <td>Spain</td>\n",
       "      <td>52106</td>\n",
       "      <td>66</td>\n",
       "      <td>43.0</td>\n",
       "      <td>0.0</td>\n",
       "      <td>0.0</td>\n",
       "      <td>500.0</td>\n",
       "      <td>NaN</td>\n",
       "      <td>1</td>\n",
       "      <td>0</td>\n",
       "    </tr>\n",
       "  </tbody>\n",
       "</table>\n",
       "</div>"
      ],
      "text/plain": [
       "   AbGroup                                   user_id time_stamp install_date  \\\n",
       "0  Control  d60ebcaecff2dc1d360a8a41271e6fd8a902c107 2020-02-10   2019-11-10   \n",
       "1     Test  f6e385b0ab43d5aea9cfcc408aa84029a4ea5fdb 2020-03-04   2019-11-05   \n",
       "2  Control  a4c80c8524e2c11cc238553d7b02da01ce2aad66 2020-02-26   2020-01-02   \n",
       "3  Control  7ea2e4599ae33760c307e254839317bd5b17a63c 2020-02-21   2020-01-13   \n",
       "4  Control  6495168982929360dc6d84bf0766d8963a7ddc41 2020-02-18   2020-02-05   \n",
       "\n",
       "      event_name platform network_name  \\\n",
       "0  ResourceSpend   itunes      Organic   \n",
       "1  ResourceSpend   itunes         Paid   \n",
       "2  ResourceSpend   itunes         Paid   \n",
       "3  ResourceSpend   itunes      Organic   \n",
       "4  ResourceSpend   itunes         Paid   \n",
       "\n",
       "                                        country_name  InGameTime  \\\n",
       "0  United Kingdom of Great Britain and Northern I...      276180   \n",
       "1                           United States of America      166095   \n",
       "2                                             Canada      240986   \n",
       "3                                             France      989822   \n",
       "4                                              Spain       52106   \n",
       "\n",
       "   LastCompletedLevel  avg_energy_amount  revenue_on_event  \\\n",
       "0                 345               54.0               0.0   \n",
       "1                 199               50.0               0.0   \n",
       "2                  84               39.0               0.0   \n",
       "3                1176               21.0               0.0   \n",
       "4                  66               43.0               0.0   \n",
       "\n",
       "   revenue_on_other_activities  gold_on_event  gold_on_other_activities  \\\n",
       "0                          0.0            NaN                       NaN   \n",
       "1                          0.0            NaN                       NaN   \n",
       "2                          0.0            NaN                       NaN   \n",
       "3                          0.0            NaN                       NaN   \n",
       "4                          0.0          500.0                       NaN   \n",
       "\n",
       "   gold_on_event_flag  gold_on_other_activities_flag  \n",
       "0                   0                              0  \n",
       "1                   0                              0  \n",
       "2                   0                              0  \n",
       "3                   0                              0  \n",
       "4                   1                              0  "
      ]
     },
     "execution_count": 72,
     "metadata": {},
     "output_type": "execute_result"
    }
   ],
   "source": [
    "df.head()"
   ]
  },
  {
   "cell_type": "code",
   "execution_count": 64,
   "id": "1bf4a0eb",
   "metadata": {},
   "outputs": [],
   "source": [
    "t = (df.groupby(['user_id','AbGroup'])[['gold_on_event_flag','gold_on_event']]\n",
    " .agg({'gold_on_event_flag':['count','mean'],\n",
    "       'gold_on_event':['mean','median']})).reset_index()"
   ]
  },
  {
   "cell_type": "code",
   "execution_count": 65,
   "id": "b8315a6f",
   "metadata": {},
   "outputs": [
    {
     "data": {
      "text/html": [
       "<div>\n",
       "<style scoped>\n",
       "    .dataframe tbody tr th:only-of-type {\n",
       "        vertical-align: middle;\n",
       "    }\n",
       "\n",
       "    .dataframe tbody tr th {\n",
       "        vertical-align: top;\n",
       "    }\n",
       "\n",
       "    .dataframe thead tr th {\n",
       "        text-align: left;\n",
       "    }\n",
       "</style>\n",
       "<table border=\"1\" class=\"dataframe\">\n",
       "  <thead>\n",
       "    <tr>\n",
       "      <th></th>\n",
       "      <th>user_id</th>\n",
       "      <th>AbGroup</th>\n",
       "      <th colspan=\"2\" halign=\"left\">gold_on_event_flag</th>\n",
       "      <th colspan=\"2\" halign=\"left\">gold_on_event</th>\n",
       "    </tr>\n",
       "    <tr>\n",
       "      <th></th>\n",
       "      <th></th>\n",
       "      <th></th>\n",
       "      <th>count</th>\n",
       "      <th>mean</th>\n",
       "      <th>mean</th>\n",
       "      <th>median</th>\n",
       "    </tr>\n",
       "  </thead>\n",
       "  <tbody>\n",
       "    <tr>\n",
       "      <th>0</th>\n",
       "      <td>00000d6d79ec151d74c5b0c0705d9d9fe252fe83</td>\n",
       "      <td>Control</td>\n",
       "      <td>2</td>\n",
       "      <td>0.000000</td>\n",
       "      <td>NaN</td>\n",
       "      <td>NaN</td>\n",
       "    </tr>\n",
       "    <tr>\n",
       "      <th>1</th>\n",
       "      <td>000133682d2dcd90c1a9c8ca5e34a294f31af64f</td>\n",
       "      <td>Control</td>\n",
       "      <td>19</td>\n",
       "      <td>0.105263</td>\n",
       "      <td>1250.0</td>\n",
       "      <td>1250.0</td>\n",
       "    </tr>\n",
       "    <tr>\n",
       "      <th>2</th>\n",
       "      <td>0001f13b0535b174bc7e36a1846c31c7a091c4b0</td>\n",
       "      <td>Control</td>\n",
       "      <td>11</td>\n",
       "      <td>0.000000</td>\n",
       "      <td>NaN</td>\n",
       "      <td>NaN</td>\n",
       "    </tr>\n",
       "    <tr>\n",
       "      <th>3</th>\n",
       "      <td>00021d57aced59fbfaf63ba620afada82fc06ca8</td>\n",
       "      <td>Test</td>\n",
       "      <td>13</td>\n",
       "      <td>0.000000</td>\n",
       "      <td>NaN</td>\n",
       "      <td>NaN</td>\n",
       "    </tr>\n",
       "    <tr>\n",
       "      <th>4</th>\n",
       "      <td>00027b7d34e10c17bfd4f76aa626403a2c5d1044</td>\n",
       "      <td>Test</td>\n",
       "      <td>7</td>\n",
       "      <td>0.000000</td>\n",
       "      <td>NaN</td>\n",
       "      <td>NaN</td>\n",
       "    </tr>\n",
       "    <tr>\n",
       "      <th>...</th>\n",
       "      <td>...</td>\n",
       "      <td>...</td>\n",
       "      <td>...</td>\n",
       "      <td>...</td>\n",
       "      <td>...</td>\n",
       "      <td>...</td>\n",
       "    </tr>\n",
       "    <tr>\n",
       "      <th>111307</th>\n",
       "      <td>fffea25b3877c861a4ebaa00e8fb9c5b96672e00</td>\n",
       "      <td>Control</td>\n",
       "      <td>1</td>\n",
       "      <td>0.000000</td>\n",
       "      <td>NaN</td>\n",
       "      <td>NaN</td>\n",
       "    </tr>\n",
       "    <tr>\n",
       "      <th>111308</th>\n",
       "      <td>fffeb6c54253ef0e7b0c4f38eb81a9dd9aebcb14</td>\n",
       "      <td>Control</td>\n",
       "      <td>5</td>\n",
       "      <td>0.000000</td>\n",
       "      <td>NaN</td>\n",
       "      <td>NaN</td>\n",
       "    </tr>\n",
       "    <tr>\n",
       "      <th>111309</th>\n",
       "      <td>ffff1964e1cb3bb0fc17c9ed440e3a6b6e6adf99</td>\n",
       "      <td>Control</td>\n",
       "      <td>6</td>\n",
       "      <td>0.000000</td>\n",
       "      <td>NaN</td>\n",
       "      <td>NaN</td>\n",
       "    </tr>\n",
       "    <tr>\n",
       "      <th>111310</th>\n",
       "      <td>ffff86c1dc72ba25d61ad8c92e9a5b3d6e2f5547</td>\n",
       "      <td>Control</td>\n",
       "      <td>5</td>\n",
       "      <td>0.000000</td>\n",
       "      <td>NaN</td>\n",
       "      <td>NaN</td>\n",
       "    </tr>\n",
       "    <tr>\n",
       "      <th>111311</th>\n",
       "      <td>ffffb50d0170ef0bc2eda7d20211b2c963c61e2a</td>\n",
       "      <td>Control</td>\n",
       "      <td>24</td>\n",
       "      <td>0.000000</td>\n",
       "      <td>NaN</td>\n",
       "      <td>NaN</td>\n",
       "    </tr>\n",
       "  </tbody>\n",
       "</table>\n",
       "<p>111312 rows × 6 columns</p>\n",
       "</div>"
      ],
      "text/plain": [
       "                                         user_id  AbGroup gold_on_event_flag  \\\n",
       "                                                                       count   \n",
       "0       00000d6d79ec151d74c5b0c0705d9d9fe252fe83  Control                  2   \n",
       "1       000133682d2dcd90c1a9c8ca5e34a294f31af64f  Control                 19   \n",
       "2       0001f13b0535b174bc7e36a1846c31c7a091c4b0  Control                 11   \n",
       "3       00021d57aced59fbfaf63ba620afada82fc06ca8     Test                 13   \n",
       "4       00027b7d34e10c17bfd4f76aa626403a2c5d1044     Test                  7   \n",
       "...                                          ...      ...                ...   \n",
       "111307  fffea25b3877c861a4ebaa00e8fb9c5b96672e00  Control                  1   \n",
       "111308  fffeb6c54253ef0e7b0c4f38eb81a9dd9aebcb14  Control                  5   \n",
       "111309  ffff1964e1cb3bb0fc17c9ed440e3a6b6e6adf99  Control                  6   \n",
       "111310  ffff86c1dc72ba25d61ad8c92e9a5b3d6e2f5547  Control                  5   \n",
       "111311  ffffb50d0170ef0bc2eda7d20211b2c963c61e2a  Control                 24   \n",
       "\n",
       "                 gold_on_event          \n",
       "            mean          mean  median  \n",
       "0       0.000000           NaN     NaN  \n",
       "1       0.105263        1250.0  1250.0  \n",
       "2       0.000000           NaN     NaN  \n",
       "3       0.000000           NaN     NaN  \n",
       "4       0.000000           NaN     NaN  \n",
       "...          ...           ...     ...  \n",
       "111307  0.000000           NaN     NaN  \n",
       "111308  0.000000           NaN     NaN  \n",
       "111309  0.000000           NaN     NaN  \n",
       "111310  0.000000           NaN     NaN  \n",
       "111311  0.000000           NaN     NaN  \n",
       "\n",
       "[111312 rows x 6 columns]"
      ]
     },
     "execution_count": 65,
     "metadata": {},
     "output_type": "execute_result"
    }
   ],
   "source": [
    "t"
   ]
  },
  {
   "cell_type": "code",
   "execution_count": 66,
   "id": "565b9447",
   "metadata": {},
   "outputs": [],
   "source": [
    "t.columns = ['_'.join(el) for el in t.columns.to_flat_index()]"
   ]
  },
  {
   "cell_type": "code",
   "execution_count": 70,
   "id": "40eab243",
   "metadata": {},
   "outputs": [
    {
     "data": {
      "text/html": [
       "<div>\n",
       "<style scoped>\n",
       "    .dataframe tbody tr th:only-of-type {\n",
       "        vertical-align: middle;\n",
       "    }\n",
       "\n",
       "    .dataframe tbody tr th {\n",
       "        vertical-align: top;\n",
       "    }\n",
       "\n",
       "    .dataframe thead th {\n",
       "        text-align: right;\n",
       "    }\n",
       "</style>\n",
       "<table border=\"1\" class=\"dataframe\">\n",
       "  <thead>\n",
       "    <tr style=\"text-align: right;\">\n",
       "      <th></th>\n",
       "      <th>user_id_</th>\n",
       "      <th>AbGroup_</th>\n",
       "      <th>gold_on_event_flag_count</th>\n",
       "      <th>gold_on_event_flag_mean</th>\n",
       "      <th>gold_on_event_mean</th>\n",
       "      <th>gold_on_event_median</th>\n",
       "    </tr>\n",
       "  </thead>\n",
       "  <tbody>\n",
       "    <tr>\n",
       "      <th>0</th>\n",
       "      <td>00000d6d79ec151d74c5b0c0705d9d9fe252fe83</td>\n",
       "      <td>Control</td>\n",
       "      <td>2</td>\n",
       "      <td>0.000000</td>\n",
       "      <td>NaN</td>\n",
       "      <td>NaN</td>\n",
       "    </tr>\n",
       "    <tr>\n",
       "      <th>1</th>\n",
       "      <td>000133682d2dcd90c1a9c8ca5e34a294f31af64f</td>\n",
       "      <td>Control</td>\n",
       "      <td>19</td>\n",
       "      <td>0.105263</td>\n",
       "      <td>1250.0</td>\n",
       "      <td>1250.0</td>\n",
       "    </tr>\n",
       "    <tr>\n",
       "      <th>2</th>\n",
       "      <td>0001f13b0535b174bc7e36a1846c31c7a091c4b0</td>\n",
       "      <td>Control</td>\n",
       "      <td>11</td>\n",
       "      <td>0.000000</td>\n",
       "      <td>NaN</td>\n",
       "      <td>NaN</td>\n",
       "    </tr>\n",
       "    <tr>\n",
       "      <th>3</th>\n",
       "      <td>00021d57aced59fbfaf63ba620afada82fc06ca8</td>\n",
       "      <td>Test</td>\n",
       "      <td>13</td>\n",
       "      <td>0.000000</td>\n",
       "      <td>NaN</td>\n",
       "      <td>NaN</td>\n",
       "    </tr>\n",
       "    <tr>\n",
       "      <th>4</th>\n",
       "      <td>00027b7d34e10c17bfd4f76aa626403a2c5d1044</td>\n",
       "      <td>Test</td>\n",
       "      <td>7</td>\n",
       "      <td>0.000000</td>\n",
       "      <td>NaN</td>\n",
       "      <td>NaN</td>\n",
       "    </tr>\n",
       "    <tr>\n",
       "      <th>...</th>\n",
       "      <td>...</td>\n",
       "      <td>...</td>\n",
       "      <td>...</td>\n",
       "      <td>...</td>\n",
       "      <td>...</td>\n",
       "      <td>...</td>\n",
       "    </tr>\n",
       "    <tr>\n",
       "      <th>111307</th>\n",
       "      <td>fffea25b3877c861a4ebaa00e8fb9c5b96672e00</td>\n",
       "      <td>Control</td>\n",
       "      <td>1</td>\n",
       "      <td>0.000000</td>\n",
       "      <td>NaN</td>\n",
       "      <td>NaN</td>\n",
       "    </tr>\n",
       "    <tr>\n",
       "      <th>111308</th>\n",
       "      <td>fffeb6c54253ef0e7b0c4f38eb81a9dd9aebcb14</td>\n",
       "      <td>Control</td>\n",
       "      <td>5</td>\n",
       "      <td>0.000000</td>\n",
       "      <td>NaN</td>\n",
       "      <td>NaN</td>\n",
       "    </tr>\n",
       "    <tr>\n",
       "      <th>111309</th>\n",
       "      <td>ffff1964e1cb3bb0fc17c9ed440e3a6b6e6adf99</td>\n",
       "      <td>Control</td>\n",
       "      <td>6</td>\n",
       "      <td>0.000000</td>\n",
       "      <td>NaN</td>\n",
       "      <td>NaN</td>\n",
       "    </tr>\n",
       "    <tr>\n",
       "      <th>111310</th>\n",
       "      <td>ffff86c1dc72ba25d61ad8c92e9a5b3d6e2f5547</td>\n",
       "      <td>Control</td>\n",
       "      <td>5</td>\n",
       "      <td>0.000000</td>\n",
       "      <td>NaN</td>\n",
       "      <td>NaN</td>\n",
       "    </tr>\n",
       "    <tr>\n",
       "      <th>111311</th>\n",
       "      <td>ffffb50d0170ef0bc2eda7d20211b2c963c61e2a</td>\n",
       "      <td>Control</td>\n",
       "      <td>24</td>\n",
       "      <td>0.000000</td>\n",
       "      <td>NaN</td>\n",
       "      <td>NaN</td>\n",
       "    </tr>\n",
       "  </tbody>\n",
       "</table>\n",
       "<p>111312 rows × 6 columns</p>\n",
       "</div>"
      ],
      "text/plain": [
       "                                        user_id_ AbGroup_  \\\n",
       "0       00000d6d79ec151d74c5b0c0705d9d9fe252fe83  Control   \n",
       "1       000133682d2dcd90c1a9c8ca5e34a294f31af64f  Control   \n",
       "2       0001f13b0535b174bc7e36a1846c31c7a091c4b0  Control   \n",
       "3       00021d57aced59fbfaf63ba620afada82fc06ca8     Test   \n",
       "4       00027b7d34e10c17bfd4f76aa626403a2c5d1044     Test   \n",
       "...                                          ...      ...   \n",
       "111307  fffea25b3877c861a4ebaa00e8fb9c5b96672e00  Control   \n",
       "111308  fffeb6c54253ef0e7b0c4f38eb81a9dd9aebcb14  Control   \n",
       "111309  ffff1964e1cb3bb0fc17c9ed440e3a6b6e6adf99  Control   \n",
       "111310  ffff86c1dc72ba25d61ad8c92e9a5b3d6e2f5547  Control   \n",
       "111311  ffffb50d0170ef0bc2eda7d20211b2c963c61e2a  Control   \n",
       "\n",
       "        gold_on_event_flag_count  gold_on_event_flag_mean  gold_on_event_mean  \\\n",
       "0                              2                 0.000000                 NaN   \n",
       "1                             19                 0.105263              1250.0   \n",
       "2                             11                 0.000000                 NaN   \n",
       "3                             13                 0.000000                 NaN   \n",
       "4                              7                 0.000000                 NaN   \n",
       "...                          ...                      ...                 ...   \n",
       "111307                         1                 0.000000                 NaN   \n",
       "111308                         5                 0.000000                 NaN   \n",
       "111309                         6                 0.000000                 NaN   \n",
       "111310                         5                 0.000000                 NaN   \n",
       "111311                        24                 0.000000                 NaN   \n",
       "\n",
       "        gold_on_event_median  \n",
       "0                        NaN  \n",
       "1                     1250.0  \n",
       "2                        NaN  \n",
       "3                        NaN  \n",
       "4                        NaN  \n",
       "...                      ...  \n",
       "111307                   NaN  \n",
       "111308                   NaN  \n",
       "111309                   NaN  \n",
       "111310                   NaN  \n",
       "111311                   NaN  \n",
       "\n",
       "[111312 rows x 6 columns]"
      ]
     },
     "execution_count": 70,
     "metadata": {},
     "output_type": "execute_result"
    }
   ],
   "source": [
    "t"
   ]
  },
  {
   "cell_type": "code",
   "execution_count": 80,
   "id": "d7517d61",
   "metadata": {},
   "outputs": [
    {
     "data": {
      "text/html": [
       "<div>\n",
       "<style scoped>\n",
       "    .dataframe tbody tr th:only-of-type {\n",
       "        vertical-align: middle;\n",
       "    }\n",
       "\n",
       "    .dataframe tbody tr th {\n",
       "        vertical-align: top;\n",
       "    }\n",
       "\n",
       "    .dataframe thead th {\n",
       "        text-align: right;\n",
       "    }\n",
       "</style>\n",
       "<table border=\"1\" class=\"dataframe\">\n",
       "  <thead>\n",
       "    <tr style=\"text-align: right;\">\n",
       "      <th></th>\n",
       "      <th>gold_on_event_mean</th>\n",
       "    </tr>\n",
       "    <tr>\n",
       "      <th>AbGroup_</th>\n",
       "      <th></th>\n",
       "    </tr>\n",
       "  </thead>\n",
       "  <tbody>\n",
       "    <tr>\n",
       "      <th>Control</th>\n",
       "      <td>2.264984e+07</td>\n",
       "    </tr>\n",
       "    <tr>\n",
       "      <th>Test</th>\n",
       "      <td>6.293894e+06</td>\n",
       "    </tr>\n",
       "  </tbody>\n",
       "</table>\n",
       "</div>"
      ],
      "text/plain": [
       "          gold_on_event_mean\n",
       "AbGroup_                    \n",
       "Control         2.264984e+07\n",
       "Test            6.293894e+06"
      ]
     },
     "execution_count": 80,
     "metadata": {},
     "output_type": "execute_result"
    }
   ],
   "source": [
    "t.query('gold_on_event_mean > 0').groupby('AbGroup_').agg({'gold_on_event_mean':'sum'})"
   ]
  },
  {
   "cell_type": "code",
   "execution_count": 81,
   "id": "4e31603a",
   "metadata": {},
   "outputs": [
    {
     "data": {
      "text/plain": [
       "2119.779129620964"
      ]
     },
     "execution_count": 81,
     "metadata": {},
     "output_type": "execute_result"
    }
   ],
   "source": [
    "2.264984e+07/(10685)"
   ]
  },
  {
   "cell_type": "code",
   "execution_count": 71,
   "id": "0b1394a7",
   "metadata": {},
   "outputs": [
    {
     "data": {
      "text/html": [
       "<div>\n",
       "<style scoped>\n",
       "    .dataframe tbody tr th:only-of-type {\n",
       "        vertical-align: middle;\n",
       "    }\n",
       "\n",
       "    .dataframe tbody tr th {\n",
       "        vertical-align: top;\n",
       "    }\n",
       "\n",
       "    .dataframe thead tr th {\n",
       "        text-align: left;\n",
       "    }\n",
       "\n",
       "    .dataframe thead tr:last-of-type th {\n",
       "        text-align: right;\n",
       "    }\n",
       "</style>\n",
       "<table border=\"1\" class=\"dataframe\">\n",
       "  <thead>\n",
       "    <tr>\n",
       "      <th></th>\n",
       "      <th colspan=\"2\" halign=\"left\">gold_on_event_flag_count</th>\n",
       "      <th colspan=\"2\" halign=\"left\">gold_on_event_flag_mean</th>\n",
       "      <th colspan=\"2\" halign=\"left\">gold_on_event_mean</th>\n",
       "      <th colspan=\"2\" halign=\"left\">gold_on_event_median</th>\n",
       "    </tr>\n",
       "    <tr>\n",
       "      <th></th>\n",
       "      <th>count</th>\n",
       "      <th>mean</th>\n",
       "      <th>count</th>\n",
       "      <th>mean</th>\n",
       "      <th>count</th>\n",
       "      <th>mean</th>\n",
       "      <th>count</th>\n",
       "      <th>mean</th>\n",
       "    </tr>\n",
       "    <tr>\n",
       "      <th>AbGroup_</th>\n",
       "      <th></th>\n",
       "      <th></th>\n",
       "      <th></th>\n",
       "      <th></th>\n",
       "      <th></th>\n",
       "      <th></th>\n",
       "      <th></th>\n",
       "      <th></th>\n",
       "    </tr>\n",
       "  </thead>\n",
       "  <tbody>\n",
       "    <tr>\n",
       "      <th>Control</th>\n",
       "      <td>89034</td>\n",
       "      <td>6.268055</td>\n",
       "      <td>89034</td>\n",
       "      <td>0.031600</td>\n",
       "      <td>10685</td>\n",
       "      <td>2119.778819</td>\n",
       "      <td>10685</td>\n",
       "      <td>2002.976135</td>\n",
       "    </tr>\n",
       "    <tr>\n",
       "      <th>Test</th>\n",
       "      <td>22278</td>\n",
       "      <td>6.229015</td>\n",
       "      <td>22278</td>\n",
       "      <td>0.030891</td>\n",
       "      <td>2603</td>\n",
       "      <td>2417.938571</td>\n",
       "      <td>2603</td>\n",
       "      <td>2296.811371</td>\n",
       "    </tr>\n",
       "  </tbody>\n",
       "</table>\n",
       "</div>"
      ],
      "text/plain": [
       "         gold_on_event_flag_count           gold_on_event_flag_mean            \\\n",
       "                            count      mean                   count      mean   \n",
       "AbGroup_                                                                        \n",
       "Control                     89034  6.268055                   89034  0.031600   \n",
       "Test                        22278  6.229015                   22278  0.030891   \n",
       "\n",
       "         gold_on_event_mean              gold_on_event_median               \n",
       "                      count         mean                count         mean  \n",
       "AbGroup_                                                                    \n",
       "Control               10685  2119.778819                10685  2002.976135  \n",
       "Test                   2603  2417.938571                 2603  2296.811371  "
      ]
     },
     "execution_count": 71,
     "metadata": {},
     "output_type": "execute_result"
    }
   ],
   "source": [
    "t.drop(columns = ['user_id_']).groupby('AbGroup_').agg(['count','mean'])"
   ]
  },
  {
   "cell_type": "markdown",
   "id": "a21c8f24",
   "metadata": {},
   "source": [
    "H0: there is no difference between two groups"
   ]
  },
  {
   "cell_type": "code",
   "execution_count": 85,
   "id": "2da9e1bb",
   "metadata": {},
   "outputs": [
    {
     "data": {
      "text/html": [
       "<div>\n",
       "<style scoped>\n",
       "    .dataframe tbody tr th:only-of-type {\n",
       "        vertical-align: middle;\n",
       "    }\n",
       "\n",
       "    .dataframe tbody tr th {\n",
       "        vertical-align: top;\n",
       "    }\n",
       "\n",
       "    .dataframe thead tr th {\n",
       "        text-align: left;\n",
       "    }\n",
       "\n",
       "    .dataframe thead tr:last-of-type th {\n",
       "        text-align: right;\n",
       "    }\n",
       "</style>\n",
       "<table border=\"1\" class=\"dataframe\">\n",
       "  <thead>\n",
       "    <tr>\n",
       "      <th></th>\n",
       "      <th colspan=\"2\" halign=\"left\">gold_on_event_flag</th>\n",
       "      <th colspan=\"2\" halign=\"left\">gold_on_event</th>\n",
       "    </tr>\n",
       "    <tr>\n",
       "      <th></th>\n",
       "      <th>count</th>\n",
       "      <th>mean</th>\n",
       "      <th>mean</th>\n",
       "      <th>median</th>\n",
       "    </tr>\n",
       "    <tr>\n",
       "      <th>AbGroup</th>\n",
       "      <th></th>\n",
       "      <th></th>\n",
       "      <th></th>\n",
       "      <th></th>\n",
       "    </tr>\n",
       "  </thead>\n",
       "  <tbody>\n",
       "    <tr>\n",
       "      <th>Control</th>\n",
       "      <td>558070</td>\n",
       "      <td>0.06523</td>\n",
       "      <td>1965.211658</td>\n",
       "      <td>1000.0</td>\n",
       "    </tr>\n",
       "    <tr>\n",
       "      <th>Test</th>\n",
       "      <td>138770</td>\n",
       "      <td>0.06492</td>\n",
       "      <td>2104.606505</td>\n",
       "      <td>1500.0</td>\n",
       "    </tr>\n",
       "  </tbody>\n",
       "</table>\n",
       "</div>"
      ],
      "text/plain": [
       "        gold_on_event_flag          gold_on_event        \n",
       "                     count     mean          mean  median\n",
       "AbGroup                                                  \n",
       "Control             558070  0.06523   1965.211658  1000.0\n",
       "Test                138770  0.06492   2104.606505  1500.0"
      ]
     },
     "execution_count": 85,
     "metadata": {},
     "output_type": "execute_result"
    }
   ],
   "source": [
    "(df.groupby(['AbGroup'])\n",
    "[['gold_on_event_flag','gold_on_event']]\n",
    " .agg({'gold_on_event_flag':['count','mean'],\n",
    "       'gold_on_event':['mean','median']}))"
   ]
  },
  {
   "cell_type": "code",
   "execution_count": 88,
   "id": "ccb29f66",
   "metadata": {},
   "outputs": [],
   "source": [
    "from tqdm.notebook import tqdm\n",
    "import numpy as np"
   ]
  },
  {
   "cell_type": "code",
   "execution_count": 89,
   "id": "1ea146e8",
   "metadata": {},
   "outputs": [
    {
     "data": {
      "application/vnd.jupyter.widget-view+json": {
       "model_id": "0825bf868efc44668f10136b2d373531",
       "version_major": 2,
       "version_minor": 0
      },
      "text/plain": [
       "  0%|          | 0/1000 [00:00<?, ?it/s]"
      ]
     },
     "metadata": {},
     "output_type": "display_data"
    }
   ],
   "source": [
    "group_size = df['AbGroup'].value_counts().values\n",
    "n = 1000\n",
    "result = []\n",
    "base_diff = 500\n",
    "\n",
    "for _ in tqdm(range(n)):\n",
    "  a = df.sample(group_size[0],replace=True)['gold_on_event'].median()\n",
    "  b = df.sample(group_size[1],replace=True)['gold_on_event'].median()\n",
    "  result.append(np.abs(a-b) >= base_diff)"
   ]
  },
  {
   "cell_type": "code",
   "execution_count": 90,
   "id": "24d79807",
   "metadata": {},
   "outputs": [
    {
     "data": {
      "text/plain": [
       "0.126"
      ]
     },
     "execution_count": 90,
     "metadata": {},
     "output_type": "execute_result"
    }
   ],
   "source": [
    "np.mean(result)"
   ]
  },
  {
   "cell_type": "markdown",
   "id": "c390f8ce",
   "metadata": {},
   "source": [
    "Conclusion: There is no difference between both groups' average transaction values "
   ]
  },
  {
   "cell_type": "code",
   "execution_count": 91,
   "id": "15d41be2",
   "metadata": {},
   "outputs": [],
   "source": [
    "df['gold_on_event_nona'] = df['gold_on_event'].fillna(0)"
   ]
  },
  {
   "cell_type": "code",
   "execution_count": 92,
   "id": "3aec1de5",
   "metadata": {},
   "outputs": [
    {
     "data": {
      "text/html": [
       "<div>\n",
       "<style scoped>\n",
       "    .dataframe tbody tr th:only-of-type {\n",
       "        vertical-align: middle;\n",
       "    }\n",
       "\n",
       "    .dataframe tbody tr th {\n",
       "        vertical-align: top;\n",
       "    }\n",
       "\n",
       "    .dataframe thead tr th {\n",
       "        text-align: left;\n",
       "    }\n",
       "\n",
       "    .dataframe thead tr:last-of-type th {\n",
       "        text-align: right;\n",
       "    }\n",
       "</style>\n",
       "<table border=\"1\" class=\"dataframe\">\n",
       "  <thead>\n",
       "    <tr>\n",
       "      <th></th>\n",
       "      <th colspan=\"2\" halign=\"left\">gold_on_event_nona</th>\n",
       "    </tr>\n",
       "    <tr>\n",
       "      <th></th>\n",
       "      <th>mean</th>\n",
       "      <th>median</th>\n",
       "    </tr>\n",
       "    <tr>\n",
       "      <th>AbGroup</th>\n",
       "      <th></th>\n",
       "      <th></th>\n",
       "    </tr>\n",
       "  </thead>\n",
       "  <tbody>\n",
       "    <tr>\n",
       "      <th>Control</th>\n",
       "      <td>128.191087</td>\n",
       "      <td>0.0</td>\n",
       "    </tr>\n",
       "    <tr>\n",
       "      <th>Test</th>\n",
       "      <td>136.631837</td>\n",
       "      <td>0.0</td>\n",
       "    </tr>\n",
       "  </tbody>\n",
       "</table>\n",
       "</div>"
      ],
      "text/plain": [
       "        gold_on_event_nona       \n",
       "                      mean median\n",
       "AbGroup                          \n",
       "Control         128.191087    0.0\n",
       "Test            136.631837    0.0"
      ]
     },
     "execution_count": 92,
     "metadata": {},
     "output_type": "execute_result"
    }
   ],
   "source": [
    "(df.groupby(['AbGroup'])\n",
    "[['gold_on_event_nona']]\n",
    " .agg(['mean','median']))"
   ]
  },
  {
   "cell_type": "code",
   "execution_count": 93,
   "id": "f4e3d463",
   "metadata": {},
   "outputs": [
    {
     "data": {
      "application/vnd.jupyter.widget-view+json": {
       "model_id": "066bfa79c56f45259f9076af78885498",
       "version_major": 2,
       "version_minor": 0
      },
      "text/plain": [
       "  0%|          | 0/1000 [00:00<?, ?it/s]"
      ]
     },
     "metadata": {},
     "output_type": "display_data"
    }
   ],
   "source": [
    "n = 1000\n",
    "result = []\n",
    "base_diff = 136.631837 - 128.191087\n",
    "\n",
    "for _ in tqdm(range(n)):\n",
    "  a = df.sample(group_size[0],replace=True)['gold_on_event_nona'].mean()\n",
    "  b = df.sample(group_size[1],replace=True)['gold_on_event_nona'].mean()\n",
    "  result.append(np.abs(a-b) >= base_diff)"
   ]
  },
  {
   "cell_type": "code",
   "execution_count": 94,
   "id": "b1c544eb",
   "metadata": {},
   "outputs": [
    {
     "data": {
      "text/plain": [
       "0.012"
      ]
     },
     "execution_count": 94,
     "metadata": {},
     "output_type": "execute_result"
    }
   ],
   "source": [
    "np.mean(result)"
   ]
  },
  {
   "cell_type": "markdown",
   "id": "2c4e3d7b",
   "metadata": {},
   "source": [
    "Conclusion: Group B pays more therefore it performs better."
   ]
  }
 ],
 "metadata": {
  "kernelspec": {
   "display_name": "Python 3",
   "language": "python",
   "name": "python3"
  },
  "language_info": {
   "codemirror_mode": {
    "name": "ipython",
    "version": 3
   },
   "file_extension": ".py",
   "mimetype": "text/x-python",
   "name": "python",
   "nbconvert_exporter": "python",
   "pygments_lexer": "ipython3",
   "version": "3.9.1"
  }
 },
 "nbformat": 4,
 "nbformat_minor": 5
}
